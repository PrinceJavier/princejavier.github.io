{
 "cells": [
  {
   "cell_type": "markdown",
   "metadata": {},
   "source": [
    "## Monte Carlo Control"
   ]
  },
  {
   "cell_type": "code",
   "execution_count": 1,
   "metadata": {
    "tags": [
     "remove-cell"
    ]
   },
   "outputs": [],
   "source": [
    "import sys\n",
    "sys.path.append(\"..\")\n",
    "from scripts.k_armbed_bandit.functions import moving_average\n",
    "\n",
    "import numpy as np\n",
    "import matplotlib.pyplot as plt\n",
    "import seaborn as sns\n",
    "from collections import Counter\n",
    "\n",
    "# for visualization of animation\n",
    "from PIL import Image\n",
    "from matplotlib import animation\n",
    "from IPython.display import HTML\n",
    "\n",
    "# RL gymnasium\n",
    "import gymnasium as gym\n",
    "from gymnasium import spaces\n",
    "import pygame\n",
    "\n",
    "from copy import deepcopy\n",
    "import warnings\n",
    "warnings.filterwarnings(\"ignore\")"
   ]
  },
  {
   "cell_type": "code",
   "execution_count": 2,
   "metadata": {},
   "outputs": [],
   "source": [
    "class Race(gym.Env):\n",
    "    def __init__(self, \n",
    "                 race_track, # race track grid - 0 for track, 1 for start, 2 for goal, 3 for barrier\n",
    "                 velocity_cap, # max absolute value\n",
    "                ):\n",
    "\n",
    "        # entire race track\n",
    "        self.race_track = race_track\n",
    "\n",
    "        # get track\n",
    "        self.track = np.argwhere(self.race_track == 0)\n",
    "        self.track = [tuple(i) for i in self.track]        \n",
    "\n",
    "        # get starting points\n",
    "        self.start_coords = np.argwhere(self.race_track == 1)\n",
    "        self.start_coords = [tuple(i) for i in self.start_coords]\n",
    "        \n",
    "        # get end points\n",
    "        self.end_coords = np.argwhere(self.race_track == 2)\n",
    "        self.end_coords = [tuple(i) for i in self.end_coords]\n",
    "\n",
    "        # get barriers\n",
    "        self.barriers = np.argwhere(self.race_track == 3)\n",
    "        self.barriers = [tuple(i) for i in self.barriers]\n",
    "\n",
    "        # velocity cap\n",
    "        self.velocity_cap = velocity_cap\n",
    "\n",
    "        # We have 9 actions, for velocity changes (-1, 0, +1) for each (x, y)\n",
    "        self.action_space = spaces.Discrete(9)\n",
    "\n",
    "        \"\"\"\n",
    "        The following dictionary maps abstract actions from `self.action_space` to\n",
    "        \"\"\"\n",
    "\n",
    "        self._action_to_velocity_delta = {\n",
    "                    0: (0, 0), # (x, y) velocity changes\n",
    "                    1: (0, 1),\n",
    "                    2: (0, -1),\n",
    "                    3: (1, 0),\n",
    "                    4: (-1, 0),\n",
    "                    5: (1, -1),\n",
    "                    6: (-1, 1),\n",
    "                    7: (-1, -1),\n",
    "                    8: (1, 1),\n",
    "                }\n",
    "        \n",
    "        # back to start at the very beginning and initialize velocity\n",
    "        self._back_to_start()\n",
    "\n",
    "    def _get_obs(self):\n",
    "        return {\"agent\": self._agent_location}\n",
    "\n",
    "    def _get_info(self):\n",
    "        return {\"velocity\": self._agent_velocity,\n",
    "                \"next_state\": self._agent_next_location, # predicted next location\n",
    "                }\n",
    "    \n",
    "    # place agent back to start (if barrier is hit) or env is reset\n",
    "    def _back_to_start(self):\n",
    "        # Choose the agent's location uniformly at random\n",
    "        j = np.random.choice(range(len(self.start_coords)))\n",
    "        self._agent_location = self.start_coords[j] # random location on any of the start of the track\n",
    "\n",
    "        # agent velocity is \n",
    "        self._agent_velocity = [0, 0] # reset to 0\n",
    "        self._agent_next_location = self._agent_location # initialize next location\n",
    "\n",
    "    def reset(self, seed=None, options=None):\n",
    "\n",
    "        # We need the following line to seed self.np_random\n",
    "        # this resets the environment?\n",
    "        super().reset(seed=seed)\n",
    "        \n",
    "        self._back_to_start()\n",
    "\n",
    "        observation = self._get_obs()\n",
    "        info = self._get_info()\n",
    "\n",
    "        return observation, info\n",
    "    \n",
    "    def step(self, action):\n",
    "        # Map the action (element of {0,1,2,3...}) to the velocity\n",
    "        self.velocity_delta = self._action_to_velocity_delta[action]\n",
    "\n",
    "        # update velocity\n",
    "        self._agent_velocity[0] = self._agent_velocity[0] + self.velocity_delta[0]\n",
    "        self._agent_velocity[1] = self._agent_velocity[1] + self.velocity_delta[1]\n",
    "\n",
    "        # clip velocity so it is never negative? # THIS IS SUTTON'S PROBLEM !!!\n",
    "        # but maybe we can skip this for now to make it more versatile!!\n",
    "        # Cap velocity to have absolute value of <= velocity_cap\n",
    "        self._agent_velocity[0] = np.clip(self._agent_velocity[0],\n",
    "                                       -self.velocity_cap, self.velocity_cap)\n",
    "        self._agent_velocity[1] = np.clip(self._agent_velocity[1],\n",
    "                                       -self.velocity_cap, self.velocity_cap)  \n",
    "\n",
    "        # velocity must not be (0, 0)\n",
    "        if tuple(self._agent_velocity) == (0, 0):\n",
    "            action = np.random.choice(range(1, 9)) # excluding 0\n",
    "            self._agent_velocity = np.array(self._action_to_velocity_delta[action]) # just get a random action\n",
    "\n",
    "        # anticipate the next location --  THIS IS WHAT WE USE FOR REWARD COMPUTATION\n",
    "        self._agent_next_location = [self._agent_location[0] + self._agent_velocity[0], \n",
    "                                     self._agent_location[1] + self._agent_velocity[1]]        \n",
    "\n",
    "        # note not yet terminated\n",
    "        terminated = False\n",
    "\n",
    "        # if next location is outside the track, then go back to start!! -- NOPE. JUST STAY IN POSITION BUT MAKE PENALTY = -10\n",
    "        if tuple(self._agent_next_location) in self.barriers:\n",
    "            # self._back_to_start()\n",
    "            reward = -5\n",
    "\n",
    "        # if next location is in the Finish Area then awesome -- just make the finish area large\n",
    "        elif tuple(self._agent_next_location) in self.end_coords:\n",
    "            self._agent_location = self._agent_next_location\n",
    "            terminated = True\n",
    "            reward = -1\n",
    "\n",
    "        # otherwise update location\n",
    "        else:\n",
    "            self._agent_location = self._agent_next_location\n",
    "            reward = -1\n",
    "\n",
    "        # An episode is done iff the agent has reached the target - in the Finish area\n",
    "        observation = self._get_obs()\n",
    "        info = self._get_info()\n",
    "\n",
    "        return observation, reward, terminated, False, info\n",
    "    \n",
    "    def render(self):\n",
    "        race_track_viz = deepcopy(self.race_track)\n",
    "        race_track_viz[self._agent_location[0], self._agent_location[1]] = 4\n",
    "\n",
    "        return race_track_viz"
   ]
  },
  {
   "cell_type": "code",
   "execution_count": 3,
   "metadata": {},
   "outputs": [
    {
     "data": {
      "text/plain": [
       "<matplotlib.image.AxesImage at 0x30829b0d0>"
      ]
     },
     "execution_count": 3,
     "metadata": {},
     "output_type": "execute_result"
    },
    {
     "data": {
      "image/png": "[encoded data removed]",
      "text/plain": [
       "<Figure size 640x480 with 1 Axes>"
      ]
     },
     "metadata": {},
     "output_type": "display_data"
    }
   ],
   "source": [
    "h = 100\n",
    "w = 100\n",
    "racecar_track = np.ones((h, w)) * 3\n",
    "\n",
    "racecar_track[:, 25:35] = 0\n",
    "racecar_track[:, 65:75] = 0\n",
    "racecar_track[45:55, 6:-6] = 0\n",
    "racecar_track[:6, :] = 3\n",
    "racecar_track[-6:, :] = 3\n",
    "\n",
    "# for i in range(racecar_track.shape[0]):\n",
    "#     for j in range(racecar_track.shape[1]):\n",
    "#         if np.sin(i/20) < np.tan(j/40) + 1 and np.sin(i/20) > np.tan(j/40):\n",
    "#             racecar_track[(i, j)] = 0\n",
    "\n",
    "#         if (i-100)**2 + (j-100) **2 < 50**2:\n",
    "#             racecar_track[(i, j)] = 0        \n",
    "\n",
    "#         if (i-100)**2 + (j-100) **2 < 30**2:\n",
    "#             racecar_track[(i, j)] = 3\n",
    "\n",
    "#         # if np.sin(i/20) < np.tan(j/40) + 1 and np.sin(i/20) > np.tan(j/40):\n",
    "\n",
    "#         if j < 40:                            \n",
    "#             racecar_track[(i, j)] = 3\n",
    "\n",
    "#         if i > 194:\n",
    "#             racecar_track[(i, j)] = 3\n",
    "\n",
    "j_start = np.argwhere(racecar_track[h-6-1, :] == 0)[4] # start from one pixel\n",
    "j_finish = np.argwhere(racecar_track[6:12, 60:] == 0)\n",
    "\n",
    "# for j in j_start:\n",
    "racecar_track[h-6-1, j_start] = 1\n",
    "\n",
    "for j in j_finish:\n",
    "    racecar_track[6:12, 60:][tuple(j)] = 2\n",
    "\n",
    "plt.imshow(racecar_track, cmap='RdBu')"
   ]
  },
  {
   "cell_type": "code",
   "execution_count": 4,
   "metadata": {},
   "outputs": [
    {
     "data": {
      "text/plain": [
       "<matplotlib.collections.PathCollection at 0x309595ff0>"
      ]
     },
     "execution_count": 4,
     "metadata": {},
     "output_type": "execute_result"
    },
    {
     "data": {
      "image/png": "[encoded data removed]",
      "text/plain": [
       "<Figure size 640x480 with 1 Axes>"
      ]
     },
     "metadata": {},
     "output_type": "display_data"
    }
   ],
   "source": [
    "env = Race(race_track=racecar_track, velocity_cap=5)\n",
    "env.reset()\n",
    "\n",
    "agent_locs = []\n",
    "for i in range(100):\n",
    "    a = np.random.choice(range(9))\n",
    "    observation, reward, terminated, _, info = env.step(a)\n",
    "    if terminated:\n",
    "        env.reset()\n",
    "    if i % 1 == 0:\n",
    "        agent_locs += [env._agent_location]\n",
    "\n",
    "# MC Control\n",
    "agent_locs = np.array(agent_locs)\n",
    "plt.imshow(racecar_track, cmap='Blues')\n",
    "plt.scatter(agent_locs[:, 1], agent_locs[:, 0], c='r', marker='o')"
   ]
  },
  {
   "cell_type": "code",
   "execution_count": 5,
   "metadata": {},
   "outputs": [],
   "source": [
    "class MC:\n",
    "    def __init__(self, env):\n",
    "        self.env = env\n",
    "        self.Q, self.state_map = self.init_Q_C(init_val=0)\n",
    "        self.C, _ = self.init_Q_C(init_val=0)\n",
    "    \n",
    "    def init_Q_C(self, init_val):\n",
    "\n",
    "        actions_list = list(self.env._action_to_velocity_delta.values())\n",
    "        states = self.env.track + self.env.start_coords + self.env.end_coords\n",
    "\n",
    "        state_map = {}\n",
    "\n",
    "        Q = np.ones(shape=(len(states), len(actions_list)))\n",
    "        for s in range(len(states)):\n",
    "            for a in range(len(actions_list)):\n",
    "                if init_val == 'normal':\n",
    "                    Q[s, a] = np.random.normal()\n",
    "                else:\n",
    "                    Q[s, a] = init_val # optimistic starts\n",
    "\n",
    "                state_map[states[s]] = s\n",
    "\n",
    "        self.actions_list = actions_list\n",
    "\n",
    "        return Q, state_map\n",
    "\n",
    "    def pi(self, s, eps):\n",
    "\n",
    "        s_idx = self.state_map[s]\n",
    "        assert type(s_idx) == int\n",
    "\n",
    "        explore = np.random.choice([True, False], p=[eps, 1-eps])\n",
    "\n",
    "        if explore:\n",
    "            a = np.random.choice(range(self.Q.shape[1]))\n",
    "\n",
    "        else:\n",
    "            # greedy. randomly break ties\n",
    "            a = np.random.choice(np.argwhere(self.Q[s_idx, :] == max(self.Q[s_idx, :])).flatten())\n",
    "\n",
    "        return a\n",
    "    \n",
    "    def generate_trajectory(self, eps, get_last_state=False):\n",
    "\n",
    "        self.env.reset()\n",
    "        observation = self.env._get_obs()['agent'] # initial observation\n",
    "        observation = tuple(observation)\n",
    "\n",
    "        S = []\n",
    "        A = []\n",
    "        R = []\n",
    "\n",
    "        while True:\n",
    "            a = self.pi(observation, eps=eps)\n",
    "            A += [a]\n",
    "            S += [observation]\n",
    "\n",
    "            observation, reward, terminated, _, info = self.env.step(a)\n",
    "            observation = tuple(observation['agent'])\n",
    "\n",
    "            R += [reward]\n",
    "            if terminated:\n",
    "                if get_last_state:\n",
    "                    S += [observation] # for visualization purposes ONLY! NOT FOR TRAINING!\n",
    "                    assert len(S) - 1 == len(A) == len(R)\n",
    "                else:\n",
    "                    assert len(S) == len(A) == len(R)\n",
    "                self.env.reset()\n",
    "                break\n",
    "        \n",
    "        return S, A, R\n",
    "\n",
    "\n",
    "    def learn(self, n_iters, eps_b, eps_pi, gamma):\n",
    "\n",
    "        # compute b(A|S) for greedy action for behavior policy\n",
    "        proba_greedy_b = 1 - eps_b + eps_b/len(self.actions_list)\n",
    "        proba_nongreedy_b = eps_b/len(self.actions_list)\n",
    "\n",
    "        # compute b(A|S) for greedy action for target policy\n",
    "        proba_greedy_pi = 1 - eps_pi + eps_pi/len(self.actions_list)\n",
    "        proba_nongreedy_pi = eps_pi/len(self.actions_list)\n",
    "\n",
    "        # greedy pi defined above\n",
    "        # loop over many episodes, i = episode\n",
    "        for i in range(n_iters):\n",
    "            # b = lambda: epsilon-greedy defined above, b(A|S)\n",
    "            # generate episode using b -> S, A, R which are sequences from 0 to T-1 (for S, A) or T (for R)\n",
    "            S, A, R = self.generate_trajectory(eps_b) # follows epsilon-greedy for behavior policy \n",
    "\n",
    "            # convert S to indices for Q and C\n",
    "            S_idx = [self.state_map[s] for s in S]\n",
    "\n",
    "            G = 0 # init returns for each episode\n",
    "            W = 1 # initi sampling ratio, weighted, for each episode\n",
    "            num_steps = len(S) # num steps in episode\n",
    "\n",
    "            # run episode until termination\n",
    "            for t in range(num_steps)[::-1]: # reversed from T-1 ... 0\n",
    "                G = G * gamma + R[t] # this R[t] corresponds to R_{t+1}, yeah confusing I know\n",
    "\n",
    "                # C - we basically sum up because of weighted importance sampling, \n",
    "                # if ordinary sampling then C is basically the number of times St has been visited aka C += 1\n",
    "                self.C[S_idx[t], A[t]] = self.C[S_idx[t], A[t]] + W\n",
    "\n",
    "                # the G - Q is the incremental update rule!\n",
    "                self.Q[S_idx[t], A[t]] = self.Q[S_idx[t], A[t]] + (W / self.C[S_idx[t], A[t]]) * (G - self.Q[S_idx[t], A[t]])\n",
    "                \n",
    "                # only select those A ~ b that are A ~ target pi for greedy\n",
    "                A_max_list = np.argwhere(self.Q[S_idx[t], :] == max(self.Q[S_idx[t], :])).flatten()                \n",
    "                if eps_pi == 0:\n",
    "                    if A[t] not in A_max_list:\n",
    "                        break # break inner loop\n",
    "\n",
    "                    else:\n",
    "                        # W = W * 1 / b[A[t], S[t]] # probability of greedy action eps=0 is 1\n",
    "                        W = W * proba_greedy_pi / proba_greedy_b # here proba_greedy_pi = 1\n",
    "\n",
    "                elif eps_pi > 0:\n",
    "                    # check if selected greedy\n",
    "                    b_selected_greedy_action = A[t] in A_max_list\n",
    "\n",
    "                    if not b_selected_greedy_action: # if A ~ b from trajectory not same as greedy\n",
    "                        break # same as above, we only get if greedy???\n",
    "\n",
    "                    #     W = W * proba_greedy_pi / proba_nongreedy_b # we still use proba_greedy_pi since we assume e-greedy numerator\n",
    "\n",
    "                    if b_selected_greedy_action:\n",
    "                        # W = W * 1 / b[A[t], S[t]] # probability of greedy action\n",
    "                        W = W * proba_greedy_pi / proba_greedy_b # both used greedy\n",
    "\n",
    "\n",
    "            # average returns every X timesteps\n",
    "            if i % 100 == 0:\n",
    "                sum_steps = num_steps\n",
    "                avg_steps = num_steps\n",
    "            else:\n",
    "                sum_steps += num_steps\n",
    "                avg_steps = sum_steps / (i + 1)"
   ]
  },
  {
   "cell_type": "code",
   "execution_count": 13,
   "metadata": {},
   "outputs": [
    {
     "data": {
      "text/plain": [
       "({'agent': (93, 29)}, {'velocity': [0, 0], 'next_state': (93, 29)})"
      ]
     },
     "execution_count": 13,
     "metadata": {},
     "output_type": "execute_result"
    }
   ],
   "source": [
    "# for checkpoint tracking\n",
    "ckp_idx = 0\n",
    "agent_checkpoints = {}\n",
    "\n",
    "# count number of steps\n",
    "steps_tracker = []\n",
    "\n",
    "# initialize agent\n",
    "agent = MC(env)\n",
    "agent.env.reset()"
   ]
  },
  {
   "cell_type": "code",
   "execution_count": 14,
   "metadata": {},
   "outputs": [],
   "source": [
    "# Off-policy MC Control algorithm with weighted sampling\n",
    "eps_b = 0.1\n",
    "eps_pi = 0.1\n",
    "gamma = 0.9"
   ]
  },
  {
   "cell_type": "code",
   "execution_count": 15,
   "metadata": {},
   "outputs": [],
   "source": [
    "for i in range(100):\n",
    "    n_iters = 100\n",
    "    agent.learn(n_iters, eps_b, eps_pi, gamma)\n",
    "\n",
    "    ckp_idx += n_iters\n",
    "    agent_checkpoints[ckp_idx] = agent\n",
    "\n",
    "    print(ckp_idx)\n",
    "    print(Counter(agent.Q.flatten()))"
   ]
  },
  {
   "cell_type": "code",
   "execution_count": 9,
   "metadata": {},
   "outputs": [
    {
     "data": {
      "text/plain": [
       "77"
      ]
     },
     "execution_count": 9,
     "metadata": {},
     "output_type": "execute_result"
    }
   ],
   "source": [
    "latest_ckp = max(agent_checkpoints.keys())\n",
    "latest_ckp"
   ]
  },
  {
   "cell_type": "code",
   "execution_count": 12,
   "metadata": {},
   "outputs": [
    {
     "name": "stdout",
     "output_type": "stream",
     "text": [
      "4489\n"
     ]
    },
    {
     "data": {
      "image/png": "[encoded data removed]",
      "text/plain": [
       "<Figure size 640x480 with 1 Axes>"
      ]
     },
     "metadata": {},
     "output_type": "display_data"
    }
   ],
   "source": [
    "agent_test = agent_checkpoints[latest_ckp]\n",
    "S, A, R = agent_test.generate_trajectory(eps=eps_pi, get_last_state=True)\n",
    "print(len(S))\n",
    "\n",
    "agent_locs = np.array(S)\n",
    "plt.imshow(racecar_track, cmap='Blues')\n",
    "plt.scatter(agent_locs[:, 1], agent_locs[:, 0], c='r', marker='o', alpha=0.75)\n",
    "plt.show()"
   ]
  },
  {
   "cell_type": "code",
   "execution_count": null,
   "metadata": {},
   "outputs": [],
   "source": [
    "def animate(iter):\n",
    "    global agent_locs, racecar_track\n",
    "    ax.clear()\n",
    "    ax.imshow(racecar_track, cmap='Blues')\n",
    "    ax.scatter(agent_locs[iter, 1], agent_locs[iter, 0], c='r', marker='o', s=200)  \n",
    "    ax.set_axis_off()  \n",
    "    plt.tight_layout()"
   ]
  },
  {
   "cell_type": "code",
   "execution_count": null,
   "metadata": {},
   "outputs": [],
   "source": [
    "fig, ax = plt.subplots(1, 1, figsize=(5, 6))"
   ]
  },
  {
   "cell_type": "code",
   "execution_count": null,
   "metadata": {},
   "outputs": [],
   "source": [
    "agent_locs = np.array(S)\n",
    "anim = animation.FuncAnimation(fig,\n",
    "                               animate,\n",
    "                               frames=np.min([500, len(S)]), \n",
    "                               interval=1)\n",
    "HTML(anim.to_jshtml(fps=15))"
   ]
  },
  {
   "cell_type": "code",
   "execution_count": null,
   "metadata": {},
   "outputs": [],
   "source": []
  },
  {
   "cell_type": "code",
   "execution_count": null,
   "metadata": {},
   "outputs": [],
   "source": []
  }
 ],
 "metadata": {
  "kernelspec": {
   "display_name": "book",
   "language": "python",
   "name": "python3"
  },
  "language_info": {
   "codemirror_mode": {
    "name": "ipython",
    "version": 3
   },
   "file_extension": ".py",
   "mimetype": "text/x-python",
   "name": "python",
   "nbconvert_exporter": "python",
   "pygments_lexer": "ipython3",
   "version": "3.10.12"
  }
 },
 "nbformat": 4,
 "nbformat_minor": 2
}
