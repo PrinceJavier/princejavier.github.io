{
 "cells": [
  {
   "cell_type": "markdown",
   "metadata": {},
   "source": [
    "# Optimizing your chances of winning Lotto"
   ]
  },
  {
   "cell_type": "code",
   "execution_count": 1,
   "metadata": {},
   "outputs": [],
   "source": [
    "import numpy as np\n",
    "import matplotlib.pyplot as plt\n",
    "import math"
   ]
  },
  {
   "cell_type": "markdown",
   "metadata": {},
   "source": [
    "## Introduction"
   ]
  },
  {
   "cell_type": "markdown",
   "metadata": {},
   "source": [
    "## Analytical Solution"
   ]
  },
  {
   "cell_type": "code",
   "execution_count": 2,
   "metadata": {},
   "outputs": [],
   "source": [
    "def count_comb(A, b):\n",
    "    assert A > 0\n",
    "    assert b > 0\n",
    "    assert A != b\n",
    "    # comb = math.factorial(A) / (math.factorial(b) * math.factorial(A - b))\n",
    "    comb = math.comb(A, b)\n",
    "    return comb\n",
    "\n",
    "def binomial_mu(L, s):\n",
    "    mu = 1 / count_comb(L, s)\n",
    "    return mu\n",
    "\n",
    "def binomial_proba(N, mu, x):\n",
    "    p = count_comb(N, x) * mu ** x * (1 - mu) ** (N - x)\n",
    "    return p"
   ]
  },
  {
   "cell_type": "code",
   "execution_count": 12,
   "metadata": {},
   "outputs": [],
   "source": [
    "def exp_post_tax_prize(N, mu, Z, t, e, top_k = 10):\n",
    "    probas = [binomial_proba(N, mu, x_n) for x_n in range(1, top_k+1)]\n",
    "    # print(probas)\n",
    "    exp = [p / x_n for p, x_n in zip (probas, range(1, top_k+1))]    \n",
    "     \n",
    "    p_sum = sum(exp) * Z * (1-t)\n",
    "    p_win = 1 - (1 - mu) ** e\n",
    "    exp_prize = p_sum * p_win\n",
    "\n",
    "    print(\"p_sum\", p_sum)\n",
    "    print(\"p_win\", p_win)\n",
    "\n",
    "    return exp_prize"
   ]
  },
  {
   "cell_type": "code",
   "execution_count": 13,
   "metadata": {},
   "outputs": [],
   "source": [
    "def net_return(exp_prize, e, p):\n",
    "    ret = exp_prize - e * p\n",
    "    return ret"
   ]
  },
  {
   "cell_type": "code",
   "execution_count": 54,
   "metadata": {},
   "outputs": [
    {
     "name": "stdout",
     "output_type": "stream",
     "text": [
      "p_sum 14335.807291122968\n",
      "p_win 0.835006722818774\n",
      "mu            0.017857142857142856\n",
      "exp_prize     11970.495465122076\n",
      "net return    9970.495465122076\n"
     ]
    }
   ],
   "source": [
    "Z = 50000 # gross prize\n",
    "t = 0.20 # tax\n",
    "\n",
    "L = 8 # number of possible values\n",
    "s = 5 # how many drawn\n",
    "\n",
    "p = 20 # ticket price\n",
    "mu = binomial_mu(L, s)\n",
    "\n",
    "e = 100 # how many tickets bought\n",
    "n = 100 # count tickets that others bought = assumed to be 1 / person\n",
    "N = n + e # count of tickets bought\n",
    "\n",
    "exp_prize = exp_post_tax_prize(N, mu, Z, t, e, top_k = 100)\n",
    "ret = net_return(exp_prize, e, p)\n",
    "\n",
    "print(\"mu           \", mu)\n",
    "print(\"exp_prize    \", exp_prize)\n",
    "print(\"net return   \", ret)"
   ]
  },
  {
   "cell_type": "markdown",
   "metadata": {},
   "source": [
    "## Numerical Validation"
   ]
  },
  {
   "cell_type": "code",
   "execution_count": 49,
   "metadata": {},
   "outputs": [],
   "source": [
    "def draw(L, s):\n",
    "    x = \"\".join(np.random.choice(range(1, L+1), s, replace=False).astype(str))\n",
    "    return x"
   ]
  },
  {
   "cell_type": "code",
   "execution_count": 53,
   "metadata": {},
   "outputs": [
    {
     "name": "stdout",
     "output_type": "stream",
     "text": [
      "-1700.0\n"
     ]
    },
    {
     "data": {
      "text/plain": [
       "(array([497.,   0.,   0.,   0.,   0.,   0.,   0.,   0.,   0.,   3.]),\n",
       " array([-2000.,  3000.,  8000., 13000., 18000., 23000., 28000., 33000.,\n",
       "        38000., 43000., 48000.]),\n",
       " <BarContainer object of 10 artists>)"
      ]
     },
     "execution_count": 53,
     "metadata": {},
     "output_type": "execute_result"
    },
    {
     "data": {
      "image/png": "[encoded data removed]",
      "text/plain": [
       "<Figure size 640x480 with 1 Axes>"
      ]
     },
     "metadata": {},
     "output_type": "display_data"
    }
   ],
   "source": [
    "# plot the expectation\n",
    "winnings = [] \n",
    "\n",
    "for i in range(500):\n",
    "\n",
    "    # buy lotto\n",
    "    tickets = {\"you\": np.array([draw(L, s) for i in range(e)]),\n",
    "               \"others\": np.array([draw(L, s) for i in range(n)])}\n",
    "    # tickets['you'][:10], tickets['others'][:10]\n",
    "\n",
    "    # draw\n",
    "    result = draw(L, s)\n",
    "    you_win = int(result in tickets['you'])\n",
    "    count_others_win = len(np.argwhere(tickets['others'] == result))\n",
    "\n",
    "    if you_win + count_others_win == 0:\n",
    "        winnings += [0 - e * p]\n",
    "    else:\n",
    "        winning = you_win * Z / (you_win + count_others_win) - e * p\n",
    "        winnings += [winning]\n",
    "\n",
    "print(np.mean(winnings))\n",
    "plt.hist(winnings)"
   ]
  },
  {
   "cell_type": "code",
   "execution_count": null,
   "metadata": {},
   "outputs": [],
   "source": []
  },
  {
   "cell_type": "code",
   "execution_count": null,
   "metadata": {},
   "outputs": [],
   "source": []
  }
 ],
 "metadata": {
  "kernelspec": {
   "display_name": "book",
   "language": "python",
   "name": "python3"
  },
  "language_info": {
   "codemirror_mode": {
    "name": "ipython",
    "version": 3
   },
   "file_extension": ".py",
   "mimetype": "text/x-python",
   "name": "python",
   "nbconvert_exporter": "python",
   "pygments_lexer": "ipython3",
   "version": "3.10.12"
  }
 },
 "nbformat": 4,
 "nbformat_minor": 2
}
