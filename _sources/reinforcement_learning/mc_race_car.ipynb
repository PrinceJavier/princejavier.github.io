{
 "cells": [
  {
   "cell_type": "markdown",
   "metadata": {},
   "source": [
    "## Monte Carlo Control"
   ]
  },
  {
   "cell_type": "code",
   "execution_count": 1,
   "metadata": {
    "tags": [
     "remove-cell"
    ]
   },
   "outputs": [],
   "source": [
    "import sys\n",
    "sys.path.append(\"..\")\n",
    "from scripts.k_armbed_bandit.functions import moving_average\n",
    "\n",
    "import numpy as np\n",
    "import matplotlib.pyplot as plt\n",
    "import seaborn as sns\n",
    "\n",
    "# for visualization of animation\n",
    "from PIL import Image\n",
    "from matplotlib import animation\n",
    "from IPython.display import HTML\n",
    "\n",
    "# RL gymnasium\n",
    "import gymnasium as gym\n",
    "from gymnasium import spaces\n",
    "import pygame\n",
    "\n",
    "from copy import deepcopy\n",
    "import warnings\n",
    "warnings.filterwarnings(\"ignore\")"
   ]
  },
  {
   "cell_type": "code",
   "execution_count": 2,
   "metadata": {},
   "outputs": [],
   "source": [
    "class Race(gym.Env):\n",
    "    def __init__(self, \n",
    "                 race_track, # race track grid - 0 for track, 1 for start, 2 for goal, 3 for barrier\n",
    "                 velocity_cap, # max absolute value\n",
    "                ):\n",
    "\n",
    "        # entire race track\n",
    "        self.race_track = race_track\n",
    "\n",
    "        # get track\n",
    "        self.track = np.argwhere(self.race_track == 0)\n",
    "        self.track = [tuple(i) for i in self.track]        \n",
    "\n",
    "        # get starting points\n",
    "        self.start_coords = np.argwhere(self.race_track == 1)\n",
    "        self.start_coords = [tuple(i) for i in self.start_coords]\n",
    "        \n",
    "        # get end points\n",
    "        self.end_coords = np.argwhere(self.race_track == 2)\n",
    "        self.end_coords = [tuple(i) for i in self.end_coords]\n",
    "\n",
    "        # get barriers\n",
    "        self.barriers = np.argwhere(self.race_track == 3)\n",
    "        self.barriers = [tuple(i) for i in self.barriers]\n",
    "\n",
    "        # velocity cap\n",
    "        self.velocity_cap = velocity_cap\n",
    "\n",
    "        # We have 9 actions, for velocity changes (-1, 0, +1) for each (x, y)\n",
    "        self.action_space = spaces.Discrete(9)\n",
    "\n",
    "        \"\"\"\n",
    "        The following dictionary maps abstract actions from `self.action_space` to\n",
    "        \"\"\"\n",
    "\n",
    "        self._action_to_velocity_delta = {\n",
    "                    0: (0, 0), # (x, y) velocity changes\n",
    "                    1: (0, 1),\n",
    "                    2: (0, -1),\n",
    "                    3: (1, 0),\n",
    "                    4: (-1, 0),\n",
    "                    5: (1, -1),\n",
    "                    6: (-1, 1),\n",
    "                    7: (-1, -1),\n",
    "                    8: (1, 1),\n",
    "                }\n",
    "        \n",
    "        # back to start at the very beginning and initialize velocity\n",
    "        self._back_to_start()\n",
    "\n",
    "    def _get_obs(self):\n",
    "        return {\"agent\": self._agent_location}\n",
    "\n",
    "    def _get_info(self):\n",
    "        return {\"velocity\": self._agent_velocity,\n",
    "                \"next_state\": self._agent_next_location, # predicted next location\n",
    "                }\n",
    "    \n",
    "    # place agent back to start (if barrier is hit) or env is reset\n",
    "    def _back_to_start(self):\n",
    "        # Choose the agent's location uniformly at random\n",
    "        j = np.random.choice(range(len(self.start_coords)))\n",
    "        self._agent_location = self.start_coords[j] # random location on any of the start of the track\n",
    "\n",
    "        # agent velocity is \n",
    "        self._agent_velocity = [0, 0] # reset to 0\n",
    "        self._agent_next_location = self._agent_location # initialize next location\n",
    "\n",
    "    def reset(self, seed=None, options=None):\n",
    "\n",
    "        # We need the following line to seed self.np_random\n",
    "        # this resets the environment?\n",
    "        super().reset(seed=seed)\n",
    "        \n",
    "        self._back_to_start()\n",
    "\n",
    "        observation = self._get_obs()\n",
    "        info = self._get_info()\n",
    "\n",
    "        return observation, info\n",
    "    \n",
    "    def step(self, action):\n",
    "        # Map the action (element of {0,1,2,3...}) to the velocity\n",
    "        self.velocity_delta = self._action_to_velocity_delta[action]\n",
    "\n",
    "        # update velocity\n",
    "        self._agent_velocity[0] = self._agent_velocity[0] + self.velocity_delta[0]\n",
    "        self._agent_velocity[1] = self._agent_velocity[1] + self.velocity_delta[1]\n",
    "\n",
    "        # clip velocity so it is never negative? # THIS IS SUTTON'S PROBLEM !!!\n",
    "        # but maybe we can skip this for now to make it more versatile!!\n",
    "        # Cap velocity to have absolute value of <= velocity_cap\n",
    "        self._agent_velocity[0] = np.clip(self._agent_velocity[0],\n",
    "                                       -self.velocity_cap, self.velocity_cap)\n",
    "        self._agent_velocity[1] = np.clip(self._agent_velocity[1],\n",
    "                                       -self.velocity_cap, self.velocity_cap)  \n",
    "\n",
    "        # velocity must not be (0, 0)\n",
    "        if tuple(self._agent_velocity) == (0, 0):\n",
    "            a = np.random.choice(range(1, 9)) # excluding 0\n",
    "            self._agent_velocity = np.array(self._action_to_velocity_delta[action]) # just get a random action\n",
    "\n",
    "        # anticipate the next location --  THIS IS WHAT WE USE FOR REWARD COMPUTATION\n",
    "        self._agent_next_location = [self._agent_location[0] + self._agent_velocity[0], \n",
    "                                     self._agent_location[1] + self._agent_velocity[1]]        \n",
    "\n",
    "        # note not yet terminated\n",
    "        terminated = False\n",
    "\n",
    "        # if next location is outside the track, then go back to start!!\n",
    "        if tuple(self._agent_next_location) in self.barriers:\n",
    "            self._back_to_start()\n",
    "\n",
    "        # if next location is in the Finish Area then awesome -- just make the finish area large\n",
    "        elif tuple(self._agent_next_location) in self.end_coords:\n",
    "            terminated = True\n",
    "\n",
    "        # otherwise update location\n",
    "        else:\n",
    "            self._agent_location = self._agent_next_location\n",
    "\n",
    "        # An episode is done iff the agent has reached the target - in the Finish area\n",
    "        reward = -1 # always -1 reward!\n",
    "        observation = self._get_obs()\n",
    "        info = self._get_info()\n",
    "\n",
    "        return observation, reward, terminated, False, info\n",
    "    \n",
    "    def render(self):\n",
    "        race_track_viz = deepcopy(self.race_track)\n",
    "        race_track_viz[self._agent_location[0], self._agent_location[1]] = 4\n",
    "\n",
    "        return race_track_viz"
   ]
  },
  {
   "cell_type": "code",
   "execution_count": 39,
   "metadata": {},
   "outputs": [
    {
     "data": {
      "text/plain": [
       "<matplotlib.image.AxesImage at 0x320cb1270>"
      ]
     },
     "execution_count": 39,
     "metadata": {},
     "output_type": "execute_result"
    },
    {
     "data": {
      "image/png": "[encoded data removed]",
      "text/plain": [
       "<Figure size 640x480 with 1 Axes>"
      ]
     },
     "metadata": {},
     "output_type": "display_data"
    }
   ],
   "source": [
    "h = 120\n",
    "w = 100\n",
    "racecar_track = np.ones((h, w)) * 3\n",
    "\n",
    "racecar_track[:, 10:55] = 0\n",
    "racecar_track[10:55, 55:] = 0\n",
    "racecar_track[:10, :] = 3\n",
    "racecar_track[-10:, :] = 3\n",
    "\n",
    "# for i in range(racecar_track.shape[0]):\n",
    "#     for j in range(racecar_track.shape[1]):\n",
    "#         if np.sin(i/20) < np.tan(j/40) + 1 and np.sin(i/20) > np.tan(j/40):\n",
    "#             racecar_track[(i, j)] = 0\n",
    "\n",
    "#         if (i-100)**2 + (j-100) **2 < 50**2:\n",
    "#             racecar_track[(i, j)] = 0        \n",
    "\n",
    "#         if (i-100)**2 + (j-100) **2 < 30**2:\n",
    "#             racecar_track[(i, j)] = 3\n",
    "\n",
    "#         # if np.sin(i/20) < np.tan(j/40) + 1 and np.sin(i/20) > np.tan(j/40):\n",
    "\n",
    "#         if j < 40:                            \n",
    "#             racecar_track[(i, j)] = 3\n",
    "\n",
    "#         if i > 194:\n",
    "#             racecar_track[(i, j)] = 3\n",
    "\n",
    "j_start = np.argwhere(racecar_track[h-10-1, :] == 0)\n",
    "j_finish = np.argwhere(racecar_track[:, w-6:] == 0)\n",
    "\n",
    "for j in j_start:\n",
    "    racecar_track[h-10-1, :][tuple(j)] = 1\n",
    "\n",
    "for j in j_finish:\n",
    "    racecar_track[:, w-6:][tuple(j)] = 2\n",
    "\n",
    "plt.imshow(racecar_track, cmap='RdBu')"
   ]
  },
  {
   "cell_type": "code",
   "execution_count": 43,
   "metadata": {},
   "outputs": [
    {
     "data": {
      "text/plain": [
       "<matplotlib.collections.PathCollection at 0x320c81660>"
      ]
     },
     "execution_count": 43,
     "metadata": {},
     "output_type": "execute_result"
    },
    {
     "data": {
      "image/png": "[encoded data removed]",
      "text/plain": [
       "<Figure size 640x480 with 1 Axes>"
      ]
     },
     "metadata": {},
     "output_type": "display_data"
    }
   ],
   "source": [
    "env = Race(race_track=racecar_track, velocity_cap=5)\n",
    "env.reset()\n",
    "\n",
    "agent_locs = []\n",
    "for i in range(100):\n",
    "    a = np.random.choice(range(9))\n",
    "    observation, reward, terminated, _, info = env.step(a)\n",
    "    if terminated:\n",
    "        env.reset()\n",
    "    if i % 1 == 0:\n",
    "        agent_locs += [env._agent_location]\n",
    "\n",
    "# MC Control\n",
    "agent_locs = np.array(agent_locs)\n",
    "plt.imshow(racecar_track, cmap='Blues')\n",
    "plt.scatter(agent_locs[:, 1], agent_locs[:, 0], c='r', marker='o')"
   ]
  },
  {
   "cell_type": "code",
   "execution_count": 44,
   "metadata": {},
   "outputs": [],
   "source": [
    "class MC:\n",
    "    def __init__(self, env):\n",
    "        self.env = env\n",
    "        self.Q, self.state_map = self.init_Q_C(init_val=0)\n",
    "        self.C, _ = self.init_Q_C(init_val=0)\n",
    "    \n",
    "    def init_Q_C(self, init_val):\n",
    "\n",
    "        actions_list = list(self.env._action_to_velocity_delta.values())\n",
    "        states = self.env.track + self.env.start_coords + self.env.end_coords\n",
    "\n",
    "        state_map = {}\n",
    "\n",
    "        Q = np.ones(shape=(len(states), len(actions_list)))\n",
    "        for s in range(len(states)):\n",
    "            for a in range(len(actions_list)):\n",
    "                if init_val == 'normal':\n",
    "                    Q[s, a] = np.random.normal()\n",
    "                else:\n",
    "                    Q[s, a] = init_val # optimistic starts\n",
    "\n",
    "                state_map[states[s]] = s\n",
    "\n",
    "        self.actions_list = actions_list\n",
    "\n",
    "        return Q, state_map\n",
    "\n",
    "    def pi(self, s, eps):\n",
    "\n",
    "        s_idx = self.state_map[s]\n",
    "        assert type(s_idx) == int\n",
    "\n",
    "        explore = np.random.choice([True, False], p=[eps, 1-eps])\n",
    "\n",
    "        if explore:\n",
    "            a = np.random.choice(range(self.Q.shape[1]))\n",
    "\n",
    "        else:\n",
    "            # greedy. randomly break ties\n",
    "            a = np.random.choice(np.argwhere(self.Q[s_idx, :] == max(self.Q[s_idx, :])).flatten())\n",
    "\n",
    "        return a\n",
    "    \n",
    "    def generate_trajectory(self, eps):\n",
    "\n",
    "        self.env.reset()\n",
    "        observation = self.env._get_obs()['agent'] # initial observation\n",
    "        observation = tuple(observation)\n",
    "\n",
    "        S = []\n",
    "        A = []\n",
    "        R = []\n",
    "\n",
    "        while True:\n",
    "            a = self.pi(observation, eps=eps)\n",
    "            A += [a]\n",
    "            S += [observation]\n",
    "\n",
    "            observation, reward, terminated, _, info = self.env.step(a)\n",
    "            observation = tuple(observation['agent'])\n",
    "\n",
    "            R += [reward]\n",
    "            if terminated:\n",
    "                self.env.reset()\n",
    "                break\n",
    "        \n",
    "        assert len(S) == len(A) == len(R)\n",
    "        return S, A, R\n"
   ]
  },
  {
   "cell_type": "code",
   "execution_count": 45,
   "metadata": {},
   "outputs": [
    {
     "name": "stdout",
     "output_type": "stream",
     "text": [
      "7 5 2\n",
      "1 1 7\n",
      "6 6 5\n",
      "1 7 0\n",
      "3 1 5\n",
      "8 1 8\n",
      "6 0 8\n",
      "1 3 8\n",
      "8 1 5\n",
      "4 6 4\n",
      "8 7 8\n",
      "2 3 3\n",
      "7 2 4\n",
      "3 3 3\n",
      "0 8 0\n"
     ]
    }
   ],
   "source": [
    "agent = MC(env)\n",
    "agent.env.reset()\n",
    "s = (10, 10)\n",
    "for i in range(15):\n",
    "    print(agent.pi(s, eps=0), agent.pi(s, eps=0.2), agent.pi(s, eps=1))"
   ]
  },
  {
   "cell_type": "code",
   "execution_count": 46,
   "metadata": {},
   "outputs": [
    {
     "data": {
      "text/plain": [
       "({'agent': (109, 43)}, {'velocity': [0, 0], 'next_state': (109, 43)})"
      ]
     },
     "execution_count": 46,
     "metadata": {},
     "output_type": "execute_result"
    }
   ],
   "source": [
    "# Off-policy MC Control algorithm with weighted sampling\n",
    "gamma = 0.90\n",
    "eps_b = 0.1\n",
    "eps_pi = 0\n",
    "\n",
    "steps_tracker = []\n",
    "agent_checkpoints = {}\n",
    "\n",
    "# compute b(A|S) for greedy action for behavior policy\n",
    "proba_greedy_b = 1 - eps_b + eps_b/len(agent.actions_list)\n",
    "proba_nongreedy_b = eps_b/len(agent.actions_list)\n",
    "\n",
    "# compute b(A|S) for greedy action for target policy\n",
    "proba_greedy_pi = 1 - eps_pi + eps_pi/len(agent.actions_list)\n",
    "proba_nongreedy_pi = eps_pi/len(agent.actions_list)\n",
    "\n",
    "# initialize agent\n",
    "agent = MC(env)\n",
    "agent.env.reset()"
   ]
  },
  {
   "cell_type": "code",
   "execution_count": 60,
   "metadata": {},
   "outputs": [
    {
     "name": "stdout",
     "output_type": "stream",
     "text": [
      "0 770\n",
      "100 1498\n",
      "200 3315\n",
      "300 810\n",
      "400 481\n",
      "500 279\n",
      "600 552\n",
      "700 4693\n",
      "800 2621\n",
      "900 342\n",
      "1000 1430\n",
      "1100 84\n",
      "1200 480\n",
      "1300 101\n",
      "1400 2089\n",
      "1500 3385\n",
      "1600 2471\n",
      "1700 570\n",
      "1800 3155\n",
      "1900 780\n",
      "2000 1996\n",
      "2100 44\n",
      "2200 172\n",
      "2300 1443\n",
      "2400 158\n",
      "2500 248\n"
     ]
    },
    {
     "ename": "KeyboardInterrupt",
     "evalue": "",
     "output_type": "error",
     "traceback": [
      "\u001b[0;31m---------------------------------------------------------------------------\u001b[0m",
      "\u001b[0;31mKeyboardInterrupt\u001b[0m                         Traceback (most recent call last)",
      "Cell \u001b[0;32mIn[60], line 6\u001b[0m\n\u001b[1;32m      1\u001b[0m \u001b[38;5;66;03m# greedy pi defined above\u001b[39;00m\n\u001b[1;32m      2\u001b[0m \u001b[38;5;66;03m# loop over many episodes, i = episode\u001b[39;00m\n\u001b[1;32m      3\u001b[0m \u001b[38;5;28;01mfor\u001b[39;00m i \u001b[38;5;129;01min\u001b[39;00m \u001b[38;5;28mrange\u001b[39m(\u001b[38;5;241m20000\u001b[39m):\n\u001b[1;32m      4\u001b[0m     \u001b[38;5;66;03m# b = lambda: epsilon-greedy defined above, b(A|S)\u001b[39;00m\n\u001b[1;32m      5\u001b[0m     \u001b[38;5;66;03m# generate episode using b -> S, A, R which are sequences from 0 to T-1 (for S, A) or T (for R)\u001b[39;00m\n\u001b[0;32m----> 6\u001b[0m     S, A, R \u001b[38;5;241m=\u001b[39m \u001b[43magent\u001b[49m\u001b[38;5;241;43m.\u001b[39;49m\u001b[43mgenerate_trajectory\u001b[49m\u001b[43m(\u001b[49m\u001b[43meps_b\u001b[49m\u001b[43m)\u001b[49m \u001b[38;5;66;03m# follows epsilon-greedy for behavior policy \u001b[39;00m\n\u001b[1;32m      8\u001b[0m     G \u001b[38;5;241m=\u001b[39m \u001b[38;5;241m0\u001b[39m \u001b[38;5;66;03m# init returns for each episode\u001b[39;00m\n\u001b[1;32m      9\u001b[0m     W \u001b[38;5;241m=\u001b[39m \u001b[38;5;241m1\u001b[39m \u001b[38;5;66;03m# initi sampling ratio, weighted, for each episode\u001b[39;00m\n",
      "Cell \u001b[0;32mIn[44], line 59\u001b[0m, in \u001b[0;36mMC.generate_trajectory\u001b[0;34m(self, eps)\u001b[0m\n\u001b[1;32m     56\u001b[0m A \u001b[38;5;241m+\u001b[39m\u001b[38;5;241m=\u001b[39m [a]\n\u001b[1;32m     57\u001b[0m S \u001b[38;5;241m+\u001b[39m\u001b[38;5;241m=\u001b[39m [observation]\n\u001b[0;32m---> 59\u001b[0m observation, reward, terminated, _, info \u001b[38;5;241m=\u001b[39m \u001b[38;5;28;43mself\u001b[39;49m\u001b[38;5;241;43m.\u001b[39;49m\u001b[43menv\u001b[49m\u001b[38;5;241;43m.\u001b[39;49m\u001b[43mstep\u001b[49m\u001b[43m(\u001b[49m\u001b[43ma\u001b[49m\u001b[43m)\u001b[49m\n\u001b[1;32m     60\u001b[0m observation \u001b[38;5;241m=\u001b[39m \u001b[38;5;28mtuple\u001b[39m(observation[\u001b[38;5;124m'\u001b[39m\u001b[38;5;124magent\u001b[39m\u001b[38;5;124m'\u001b[39m])\n\u001b[1;32m     62\u001b[0m R \u001b[38;5;241m+\u001b[39m\u001b[38;5;241m=\u001b[39m [reward]\n",
      "Cell \u001b[0;32mIn[2], line 111\u001b[0m, in \u001b[0;36mRace.step\u001b[0;34m(self, action)\u001b[0m\n\u001b[1;32m    108\u001b[0m terminated \u001b[38;5;241m=\u001b[39m \u001b[38;5;28;01mFalse\u001b[39;00m\n\u001b[1;32m    110\u001b[0m \u001b[38;5;66;03m# if next location is outside the track, then go back to start!!\u001b[39;00m\n\u001b[0;32m--> 111\u001b[0m \u001b[38;5;28;01mif\u001b[39;00m \u001b[38;5;28mtuple\u001b[39m(\u001b[38;5;28mself\u001b[39m\u001b[38;5;241m.\u001b[39m_agent_next_location) \u001b[38;5;129;01min\u001b[39;00m \u001b[38;5;28mself\u001b[39m\u001b[38;5;241m.\u001b[39mbarriers:\n\u001b[1;32m    112\u001b[0m     \u001b[38;5;28mself\u001b[39m\u001b[38;5;241m.\u001b[39m_back_to_start()\n\u001b[1;32m    114\u001b[0m \u001b[38;5;66;03m# if next location is in the Finish Area then awesome -- just make the finish area large\u001b[39;00m\n",
      "\u001b[0;31mKeyboardInterrupt\u001b[0m: "
     ]
    }
   ],
   "source": [
    "# greedy pi defined above\n",
    "# loop over many episodes, i = episode\n",
    "for i in range(20000):\n",
    "    # b = lambda: epsilon-greedy defined above, b(A|S)\n",
    "    # generate episode using b -> S, A, R which are sequences from 0 to T-1 (for S, A) or T (for R)\n",
    "    S, A, R = agent.generate_trajectory(eps_b) # follows epsilon-greedy for behavior policy \n",
    "\n",
    "    G = 0 # init returns for each episode\n",
    "    W = 1 # initi sampling ratio, weighted, for each episode\n",
    "    num_steps = len(S) # num steps in episode\n",
    "\n",
    "    # run episode until termination\n",
    "    for t in range(num_steps)[::-1]: # reversed from T-1 ... 0\n",
    "        G = G * gamma + R[t] # this R[t] corresponds to R_{t+1}, yeah confusing I know\n",
    "\n",
    "        # C - we basically sum up because of weighted importance sampling, \n",
    "        # if ordinary sampling then C is basically the number of times St has been visited aka C += 1\n",
    "        agent.C[S[t], A[t]] = agent.C[S[t], A[t]] + W\n",
    "\n",
    "        # the G - Q is the incremental update rule!\n",
    "        agent.Q[S[t], A[t]] = agent.Q[S[t], A[t]] + (W / agent.C[S[t], A[t]]) * (G - agent.Q[S[t], A[t]])\n",
    "        \n",
    "        # only select those A ~ b that are A ~ target pi for greedy\n",
    "        if eps_pi == 0:\n",
    "            if A[t] != agent.pi(S[t], eps=0):\n",
    "                break # break inner loop\n",
    "            else:\n",
    "                # W = W * 1 / b[A[t], S[t]] # probability of greedy action eps=0 is 1\n",
    "                W = W * proba_greedy_pi / proba_greedy_b # here proba_greedy_pi = 1\n",
    "\n",
    "        elif eps_pi > 0:\n",
    "            b_selected_greedy_action = A[t] == agent.pi(S[t], eps=0)\n",
    "\n",
    "            if not b_selected_greedy_action: # if A ~ b from trajectory not same as greedy\n",
    "                W = W * proba_greedy_pi / proba_nongreedy_b # we still use proba_greedy_pi in since we assume e-greedy numerator\n",
    "\n",
    "            elif b_selected_greedy_action:\n",
    "                # W = W * 1 / b[A[t], S[t]] # probability of greedy action\n",
    "                W = W * proba_greedy_pi / proba_greedy_b # both used greedy\n",
    "\n",
    "\n",
    "    # average returns every X timesteps\n",
    "    if i % 100 == 0:\n",
    "        sum_steps = num_steps\n",
    "        avg_steps = num_steps\n",
    "    else:\n",
    "        sum_steps += num_steps\n",
    "        avg_steps = sum_steps / (i + 1)\n",
    "\n",
    "    steps_tracker += [num_steps]\n",
    "\n",
    "    if i % 100 == 0:\n",
    "        print(i, avg_steps)\n",
    "\n",
    "        # checkpoint\n",
    "        agent_checkpoints[i] = deepcopy(agent)\n"
   ]
  },
  {
   "cell_type": "code",
   "execution_count": 61,
   "metadata": {},
   "outputs": [
    {
     "data": {
      "text/plain": [
       "[<matplotlib.lines.Line2D at 0x322185690>]"
      ]
     },
     "execution_count": 61,
     "metadata": {},
     "output_type": "execute_result"
    },
    {
     "data": {
      "image/png": "[encoded data removed]",
      "text/plain": [
       "<Figure size 640x480 with 1 Axes>"
      ]
     },
     "metadata": {},
     "output_type": "display_data"
    }
   ],
   "source": [
    "plt.plot(steps_tracker)"
   ]
  },
  {
   "cell_type": "code",
   "execution_count": 62,
   "metadata": {},
   "outputs": [
    {
     "data": {
      "text/plain": [
       "1076"
      ]
     },
     "execution_count": 62,
     "metadata": {},
     "output_type": "execute_result"
    }
   ],
   "source": [
    "S, A, R = agent.generate_trajectory(eps=0.0)\n",
    "len(S)"
   ]
  },
  {
   "cell_type": "code",
   "execution_count": 63,
   "metadata": {},
   "outputs": [
    {
     "data": {
      "text/plain": [
       "<matplotlib.collections.PathCollection at 0x321f271c0>"
      ]
     },
     "execution_count": 63,
     "metadata": {},
     "output_type": "execute_result"
    },
    {
     "data": {
      "image/png": "[encoded data removed]",
      "text/plain": [
       "<Figure size 640x480 with 1 Axes>"
      ]
     },
     "metadata": {},
     "output_type": "display_data"
    }
   ],
   "source": [
    "agent_locs = np.array(S)\n",
    "plt.imshow(racecar_track, cmap='Blues')\n",
    "plt.scatter(agent_locs[:, 1], agent_locs[:, 0], c='r', marker='o')"
   ]
  },
  {
   "cell_type": "code",
   "execution_count": null,
   "metadata": {},
   "outputs": [],
   "source": [
    "agent_locs = np.array(S)\n",
    "\n",
    "def animate(iter):\n",
    "    plt.imshow(racecar_track, cmap='Blues')\n",
    "    plt.scatter(agent_locs[iter, 1], agent_locs[iter, 0], c='r', marker='o')    "
   ]
  },
  {
   "cell_type": "code",
   "execution_count": null,
   "metadata": {},
   "outputs": [],
   "source": [
    "fig, ax = plt.subplots(1, 1)\n",
    "anim = animation.FuncAnimation(fig,\n",
    "                               animate,\n",
    "                               frames=1000, \n",
    "                               interval=1)\n",
    "HTML(anim.to_jshtml(fps=30))"
   ]
  }
 ],
 "metadata": {
  "kernelspec": {
   "display_name": "book",
   "language": "python",
   "name": "python3"
  },
  "language_info": {
   "codemirror_mode": {
    "name": "ipython",
    "version": 3
   },
   "file_extension": ".py",
   "mimetype": "text/x-python",
   "name": "python",
   "nbconvert_exporter": "python",
   "pygments_lexer": "ipython3",
   "version": "3.10.12"
  }
 },
 "nbformat": 4,
 "nbformat_minor": 2
}
